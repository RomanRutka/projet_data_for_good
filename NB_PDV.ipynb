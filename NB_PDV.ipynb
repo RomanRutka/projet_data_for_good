{
 "cells": [
  {
   "cell_type": "code",
   "execution_count": 214,
   "metadata": {},
   "outputs": [],
   "source": [
    "import pandas as pd\n",
    "import numpy as np\n",
    "# utm\n",
    "# pip install utm\n",
    "import utm\n",
    "import re\n",
    "from glob import glob\n",
    "import matplotlib.pyplot as plt\n",
    "\n",
    "pd.options.mode.chained_assignment = None"
   ]
  },
  {
   "cell_type": "code",
   "execution_count": 215,
   "metadata": {},
   "outputs": [
    {
     "name": "stdout",
     "output_type": "stream",
     "text": [
      "<class 'pandas.core.frame.DataFrame'>\n",
      "Int64Index: 9699 entries, 1 to 10951\n",
      "Data columns (total 4 columns):\n",
      " #   Column      Non-Null Count  Dtype \n",
      "---  ------      --------------  ----- \n",
      " 0   latlng      9699 non-null   object\n",
      " 1   commune     9699 non-null   object\n",
      " 2   codepostal  9699 non-null   int64 \n",
      " 3   carburants  9699 non-null   object\n",
      "dtypes: int64(1), object(3)\n",
      "memory usage: 378.9+ KB\n"
     ]
    }
   ],
   "source": [
    "data = pd.read_csv('./data_PDV/pdv.csv', delimiter=',')\n",
    "data = data[['latlng','commune','codepostal','carburants']]\n",
    "data=data.dropna()\n",
    "data.info()\n"
   ]
  },
  {
   "cell_type": "code",
   "execution_count": 216,
   "metadata": {},
   "outputs": [],
   "source": [
    "data['latlng']= data['latlng'].astype('str')\n",
    "\n",
    "data['latitude']=0\n",
    "\n",
    "for i in range(len(data)):\n",
    "    data['latitude'].iloc[i]=re.split(',', data['latlng'].iloc[i])\n",
    "\n",
    "data['longitude']=data['latitude'].copy()\n",
    "\n",
    "data['latitude']=data['latitude'].map(lambda x: x[0])\n",
    "data['longitude']=data['longitude'].map(lambda x: x[1])\n",
    "data['latitude']=data['latitude'].astype('float')\n",
    "data['longitude']=data['longitude'].astype('float')\n",
    "\n",
    "data['carburants']=data['carburants'].astype('str')\n",
    "for i in range(len(data)):\n",
    "    data['carburants'].iloc[i]=data['carburants'].iloc[i].replace(\"|\", \"/\")\n",
    "    data['carburants'].iloc[i]=re.split(\"/\", data['carburants'].iloc[i])\n",
    "\n",
    "data['nombre']=0\n",
    "\n",
    "for i in range(len(data)):\n",
    "    data['nombre'].iloc[i]=len(data['carburants'].iloc[i])\n",
    "\n",
    "listing_carburants = []\n",
    "\n",
    "for i in range(0,len(data)):\n",
    "    for j,l in enumerate(data['carburants'].iloc[i]):\n",
    "        listing_carburants.append(l)\n",
    "\n",
    "data['liste_complete_carburants']=0\n",
    "for i in range(len(data)):\n",
    "    data['liste_complete_carburants'].iloc[i]=list(set(listing_carburants))\n",
    "\n",
    "data = data.drop(['latlng'], axis=1)\n",
    "\n",
    "data['codepostal']=data['codepostal'].astype('str')\n",
    "data['departement']=data['codepostal'].map(lambda x: x[0:2])\n",
    "\n",
    "data.to_csv('data_PDV/PointsDeVentes_clean.csv')"
   ]
  }
 ],
 "metadata": {
  "kernelspec": {
   "display_name": "Python 3.10.6 ('envJD2')",
   "language": "python",
   "name": "python3"
  },
  "language_info": {
   "codemirror_mode": {
    "name": "ipython",
    "version": 3
   },
   "file_extension": ".py",
   "mimetype": "text/x-python",
   "name": "python",
   "nbconvert_exporter": "python",
   "pygments_lexer": "ipython3",
   "version": "3.10.6"
  },
  "orig_nbformat": 4,
  "vscode": {
   "interpreter": {
    "hash": "ebd61e7eaa365bf28b79f8bfa23817fbf5771020ee6c99f3de4b0ca1bb64bf7a"
   }
  }
 },
 "nbformat": 4,
 "nbformat_minor": 2
}
