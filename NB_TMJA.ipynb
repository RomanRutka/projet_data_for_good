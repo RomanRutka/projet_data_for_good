{
 "cells": [
  {
   "cell_type": "code",
   "execution_count": 166,
   "metadata": {},
   "outputs": [],
   "source": [
    "import pandas as pd\n",
    "import numpy as np\n",
    "# utm\n",
    "# pip install utm\n",
    "import utm\n",
    "import re\n",
    "from glob import glob\n",
    "\n",
    "pd.options.mode.chained_assignment = None"
   ]
  },
  {
   "cell_type": "markdown",
   "metadata": {},
   "source": [
    "## Lecture de données CSV"
   ]
  },
  {
   "cell_type": "markdown",
   "metadata": {},
   "source": [
    "### Trafic Moyen Journalier Annuel"
   ]
  },
  {
   "cell_type": "code",
   "execution_count": 167,
   "metadata": {},
   "outputs": [
    {
     "data": {
      "text/plain": [
       "Index(['dateReferentiel', 'route', 'longueur', 'prD', 'depPrD',\n",
       "       'concessionPrD', 'absD', 'cumulD', 'xD', 'yD', 'zD', 'prF', 'depPrF',\n",
       "       'concessionPrF', 'absF', 'cumulF', 'xF', 'yF', 'zF',\n",
       "       'anneeMesureTrafic', 'typeComptageTrafic', 'TMJA', 'RatioPL'],\n",
       "      dtype='object')"
      ]
     },
     "execution_count": 167,
     "metadata": {},
     "output_type": "execute_result"
    }
   ],
   "source": [
    "data = pd.read_csv('./data/input/TMJA_2007.csv',delimiter='\\t' )\n",
    "data.columns"
   ]
  },
  {
   "cell_type": "code",
   "execution_count": 168,
   "metadata": {},
   "outputs": [],
   "source": [
    "def raccourcir(x):\n",
    "    return x[0:6]\n",
    "\n",
    "def data_cleaning(url):\n",
    "\n",
    "    data = pd.read_csv(url,delimiter='\\t' )\n",
    "    data_clean = data[['anneeMesureTrafic','TMJA', 'xD', 'yD','xF', 'yF','route', 'longueur']].dropna()\n",
    "\n",
    "    year=data_clean['anneeMesureTrafic'].iloc[0]\n",
    "\n",
    "    for i in range(len(data_clean)):\n",
    "        data_clean['xD'].iloc[i]=raccourcir(data_clean['xD'].iloc[i])\n",
    "        data_clean['yD'].iloc[i]=raccourcir(data_clean['yD'].iloc[i])\n",
    "        data_clean['xF'].iloc[i]=raccourcir(data_clean['xF'].iloc[i])\n",
    "        data_clean['yF'].iloc[i]=raccourcir(data_clean['yF'].iloc[i])\n",
    "    \n",
    "    data_clean['xD']=data_clean['xD'].astype('int')\n",
    "    data_clean['yD']=data_clean['yD'].astype('int')\n",
    "    data_clean['xF']=data_clean['xF'].astype('int')\n",
    "    data_clean['yF']=data_clean['yF'].astype('int')\n",
    "\n",
    "    data_clean['coordGPS_D_lon'] = 0\n",
    "    data_clean['coordGPS_D_lat'] = 0\n",
    "    data_clean['coordGPS_F_lon'] = 0\n",
    "    data_clean['coordGPS_F_lat'] = 0\n",
    "\n",
    "    for i in range(len(data_clean)):\n",
    "        data_clean['coordGPS_D_lat'].iloc[i]=[utm.to_latlon(easting=data_clean['xD'].iloc[i],\n",
    "                                                                northing=data_clean['yD'].iloc[i],\n",
    "                                                                northern=True,\n",
    "                                                                zone_number=31)][0][0]\n",
    "        data_clean['coordGPS_D_lon'].iloc[i]=[utm.to_latlon(easting=data_clean['xD'].iloc[i],\n",
    "                                                                northing=data_clean['yD'].iloc[i],\n",
    "                                                                northern=True,\n",
    "                                                                zone_number=31)][0][1]                                                              \n",
    "        data_clean['coordGPS_F_lat'].iloc[i]=[utm.to_latlon(easting=data_clean['xF'].iloc[i],\n",
    "                                                                northing=data_clean['yF'].iloc[i],\n",
    "                                                                northern=True,\n",
    "                                                                zone_number=31)][0][0]\n",
    "        data_clean['coordGPS_F_lon'].iloc[i]=[utm.to_latlon(easting=data_clean['xF'].iloc[i],\n",
    "                                                                northing=data_clean['yF'].iloc[i],\n",
    "                                                                northern=True,\n",
    "                                                                zone_number=31)][0][1]\n",
    "    data_clean.to_csv(f\"./data/clean/TMJA_{int(year)}_clean.csv\")"
   ]
  },
  {
   "cell_type": "code",
   "execution_count": 169,
   "metadata": {},
   "outputs": [],
   "source": [
    "liste_csv = glob('./data/input/*.csv')\n",
    "for i,f in enumerate(liste_csv):\n",
    "    data_cleaning(f)"
   ]
  },
  {
   "cell_type": "markdown",
   "metadata": {},
   "source": [
    "#### Chaque section de route est définie par :\n",
    "\n",
    "son nom (route)\n",
    "\n",
    "sa longueur\n",
    "\n",
    "##### ses coordonnées de début (D) et de fin (F) exprimées en coordonnées (X, Y, Z) ou par un système de repérage routier composé de 4 attributs :\n",
    "\n",
    "pr = Point de repère routier\n",
    "\n",
    "depPr = département où se situe le PR\n",
    "\n",
    "concessionPr = indique si le PR se trouve sur une section concédée (C) ou non (N)\n",
    "\n",
    "abs = abscisse ou distance (en mètres) séparant le point du PR auquel il se rattache\n",
    "\n",
    "##### D'autres attributs complètent ces attributs de localisation :\n",
    "\n",
    "anneeMesureTrafic = année pendant laquelle ont été effectuées les mesures\n",
    "\n",
    "TypeComptageTrafic = indique si le comptage des véhicules a été effectué à partir d'un système placé en permanence sur la route ou s'il s'agit d'un relevé à l'aide d'un système de comptage temporaire\n",
    "\n",
    "TMJA = trafic moyen journalier annuel\n",
    "\n",
    "RatioPL = pourcentage de poids-lourds entrant dans la composition du TMJA"
   ]
  },
  {
   "cell_type": "markdown",
   "metadata": {},
   "source": [
    "#### Concaténation des différentes années"
   ]
  },
  {
   "cell_type": "code",
   "execution_count": 181,
   "metadata": {},
   "outputs": [],
   "source": [
    "TMJA_clean = pd.DataFrame()\n",
    "\n",
    "liste_csv_clean = glob('./data/clean/*.csv')\n",
    "\n",
    "for i,f in enumerate(liste_csv_clean):\n",
    "    df = pd.read_csv(f,delimiter=',')\n",
    "    df_ =pd.concat([TMJA_clean,df], axis=0)\n",
    "    TMJA_clean = df_\n",
    "\n",
    "TMJA_clean = TMJA_clean.drop(columns='Unnamed: 0', axis=1)"
   ]
  },
  {
   "cell_type": "code",
   "execution_count": 183,
   "metadata": {},
   "outputs": [],
   "source": [
    "TMJA_clean.to_csv(\"./data/clean/TMJA_2007_2018_clean.csv\")"
   ]
  }
 ],
 "metadata": {
  "kernelspec": {
   "display_name": "Python 3.10.6 ('envJD2')",
   "language": "python",
   "name": "python3"
  },
  "language_info": {
   "codemirror_mode": {
    "name": "ipython",
    "version": 3
   },
   "file_extension": ".py",
   "mimetype": "text/x-python",
   "name": "python",
   "nbconvert_exporter": "python",
   "pygments_lexer": "ipython3",
   "version": "3.10.6"
  },
  "orig_nbformat": 4,
  "vscode": {
   "interpreter": {
    "hash": "ebd61e7eaa365bf28b79f8bfa23817fbf5771020ee6c99f3de4b0ca1bb64bf7a"
   }
  }
 },
 "nbformat": 4,
 "nbformat_minor": 2
}
